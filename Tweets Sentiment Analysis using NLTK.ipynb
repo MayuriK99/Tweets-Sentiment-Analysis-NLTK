{
 "cells": [
  {
   "cell_type": "raw",
   "id": "cffad0b1-9907-42d3-91f4-bcdbf397dffb",
   "metadata": {},
   "source": [
    "Tweets Sentiment analysis using NLTK\n",
    "\n",
    "This notebook focuses on understanding and classifying the sentiment of tweets. Leveraging the power of Natural Language Processing (NLP) and Long Short-Term Memory (LSTM), this project aims to accurately predict whether a given tweet expresses a positive or negative sentiment. By analyzing a dataset of tweets, the notebook demonstrates the workflow of data preprocessing, model training, evaluation, and visualization of results.\n",
    "The dataset contains Positive and Negative tweets which shows the person have depression or not. Label 0 indicates Negative means person who tweet is not in depression and label 1 indicates positive shows person is in depression. By analysing the tweets, model will predict sentiment of person. The dataset contain 10314 tweets and preprocesssed the using the NLTK."
   ]
  },
  {
   "cell_type": "raw",
   "id": "245cea0d-c6aa-4079-a85b-a70ddfbfc074",
   "metadata": {},
   "source": [
    "Import required libraries"
   ]
  },
  {
   "cell_type": "code",
   "execution_count": 1,
   "id": "d5939e64-510c-4278-ab4c-d914a161a6e3",
   "metadata": {},
   "outputs": [],
   "source": [
    "import pandas as pd\n",
    "import numpy as np\n",
    "import matplotlib.pyplot as plt\n",
    "import seaborn as sns\n",
    "import re\n",
    "import string\n",
    "import nltk\n",
    "from nltk.corpus import stopwords\n",
    "from tensorflow.keras.preprocessing.text import Tokenizer\n",
    "from tensorflow.keras.preprocessing.sequence import pad_sequences\n",
    "from nltk.stem import WordNetLemmatizer\n",
    "from keras.preprocessing import sequence\n",
    "from tensorflow.keras.models import Sequential\n",
    "from tensorflow.keras.layers import *\n",
    "from keras.layers import LSTM, Dense, SimpleRNN, Embedding, Flatten, Dropout\n",
    "from keras.activations import softmax\n",
    "from sklearn.model_selection import train_test_split\n",
    "from sklearn.metrics import classification_report\n",
    "\n",
    "import warnings\n",
    "warnings.filterwarnings('ignore')"
   ]
  },
  {
   "cell_type": "raw",
   "id": "c052b6cb-6e26-462b-9346-4079d14690cf",
   "metadata": {},
   "source": [
    "Read CSV file"
   ]
  },
  {
   "cell_type": "code",
   "execution_count": 2,
   "id": "5a68da15-528e-4313-8e72-cc415199faab",
   "metadata": {},
   "outputs": [],
   "source": [
    "df = pd.read_csv(r\"sentiment_tweets3.csv\")"
   ]
  },
  {
   "cell_type": "code",
   "execution_count": 3,
   "id": "cc094eba-32dd-4109-bd64-48448fbb6a84",
   "metadata": {
    "scrolled": true
   },
   "outputs": [
    {
     "data": {
      "text/html": [
       "<div>\n",
       "<style scoped>\n",
       "    .dataframe tbody tr th:only-of-type {\n",
       "        vertical-align: middle;\n",
       "    }\n",
       "\n",
       "    .dataframe tbody tr th {\n",
       "        vertical-align: top;\n",
       "    }\n",
       "\n",
       "    .dataframe thead th {\n",
       "        text-align: right;\n",
       "    }\n",
       "</style>\n",
       "<table border=\"1\" class=\"dataframe\">\n",
       "  <thead>\n",
       "    <tr style=\"text-align: right;\">\n",
       "      <th></th>\n",
       "      <th>Index</th>\n",
       "      <th>message to examine</th>\n",
       "      <th>label (depression result)</th>\n",
       "    </tr>\n",
       "  </thead>\n",
       "  <tbody>\n",
       "    <tr>\n",
       "      <th>0</th>\n",
       "      <td>106</td>\n",
       "      <td>just had a real good moment. i missssssssss hi...</td>\n",
       "      <td>0</td>\n",
       "    </tr>\n",
       "    <tr>\n",
       "      <th>1</th>\n",
       "      <td>217</td>\n",
       "      <td>is reading manga  http://plurk.com/p/mzp1e</td>\n",
       "      <td>0</td>\n",
       "    </tr>\n",
       "    <tr>\n",
       "      <th>2</th>\n",
       "      <td>220</td>\n",
       "      <td>@comeagainjen http://twitpic.com/2y2lx - http:...</td>\n",
       "      <td>0</td>\n",
       "    </tr>\n",
       "    <tr>\n",
       "      <th>3</th>\n",
       "      <td>288</td>\n",
       "      <td>@lapcat Need to send 'em to my accountant tomo...</td>\n",
       "      <td>0</td>\n",
       "    </tr>\n",
       "    <tr>\n",
       "      <th>4</th>\n",
       "      <td>540</td>\n",
       "      <td>ADD ME ON MYSPACE!!!  myspace.com/LookThunder</td>\n",
       "      <td>0</td>\n",
       "    </tr>\n",
       "  </tbody>\n",
       "</table>\n",
       "</div>"
      ],
      "text/plain": [
       "   Index                                 message to examine  \\\n",
       "0    106  just had a real good moment. i missssssssss hi...   \n",
       "1    217         is reading manga  http://plurk.com/p/mzp1e   \n",
       "2    220  @comeagainjen http://twitpic.com/2y2lx - http:...   \n",
       "3    288  @lapcat Need to send 'em to my accountant tomo...   \n",
       "4    540      ADD ME ON MYSPACE!!!  myspace.com/LookThunder   \n",
       "\n",
       "   label (depression result)  \n",
       "0                          0  \n",
       "1                          0  \n",
       "2                          0  \n",
       "3                          0  \n",
       "4                          0  "
      ]
     },
     "execution_count": 3,
     "metadata": {},
     "output_type": "execute_result"
    }
   ],
   "source": [
    "df.head()"
   ]
  },
  {
   "cell_type": "raw",
   "id": "a668c6df-026d-473a-8d62-0bee70803950",
   "metadata": {},
   "source": [
    "Check the data shape, null values & duplicates"
   ]
  },
  {
   "cell_type": "code",
   "execution_count": 4,
   "id": "142efa88-8401-49fe-98b3-64bd058de9d0",
   "metadata": {},
   "outputs": [
    {
     "data": {
      "text/plain": [
       "(10314, 3)"
      ]
     },
     "execution_count": 4,
     "metadata": {},
     "output_type": "execute_result"
    }
   ],
   "source": [
    "df.shape"
   ]
  },
  {
   "cell_type": "code",
   "execution_count": 5,
   "id": "7f563943-2d4c-4230-a914-c73b41e94a4c",
   "metadata": {},
   "outputs": [
    {
     "data": {
      "text/plain": [
       "Index                        0\n",
       "message to examine           0\n",
       "label (depression result)    0\n",
       "dtype: int64"
      ]
     },
     "execution_count": 5,
     "metadata": {},
     "output_type": "execute_result"
    }
   ],
   "source": [
    "df.isnull().sum()"
   ]
  },
  {
   "cell_type": "code",
   "execution_count": 6,
   "id": "d998592a-86df-4046-b469-9d64abb61460",
   "metadata": {},
   "outputs": [
    {
     "data": {
      "text/plain": [
       "np.int64(0)"
      ]
     },
     "execution_count": 6,
     "metadata": {},
     "output_type": "execute_result"
    }
   ],
   "source": [
    "df.duplicated().sum()"
   ]
  },
  {
   "cell_type": "raw",
   "id": "66bfcac6-f6a1-4c01-a86a-10249980282a",
   "metadata": {},
   "source": [
    "Data Preprocessing"
   ]
  },
  {
   "cell_type": "code",
   "execution_count": 7,
   "id": "ec4ba42a-faf2-43c7-b7a1-4ae04a69eba5",
   "metadata": {},
   "outputs": [
    {
     "data": {
      "text/html": [
       "<div>\n",
       "<style scoped>\n",
       "    .dataframe tbody tr th:only-of-type {\n",
       "        vertical-align: middle;\n",
       "    }\n",
       "\n",
       "    .dataframe tbody tr th {\n",
       "        vertical-align: top;\n",
       "    }\n",
       "\n",
       "    .dataframe thead th {\n",
       "        text-align: right;\n",
       "    }\n",
       "</style>\n",
       "<table border=\"1\" class=\"dataframe\">\n",
       "  <thead>\n",
       "    <tr style=\"text-align: right;\">\n",
       "      <th></th>\n",
       "      <th>Index</th>\n",
       "      <th>Text</th>\n",
       "      <th>Label</th>\n",
       "    </tr>\n",
       "  </thead>\n",
       "  <tbody>\n",
       "    <tr>\n",
       "      <th>0</th>\n",
       "      <td>106</td>\n",
       "      <td>just had a real good moment. i missssssssss hi...</td>\n",
       "      <td>0</td>\n",
       "    </tr>\n",
       "    <tr>\n",
       "      <th>1</th>\n",
       "      <td>217</td>\n",
       "      <td>is reading manga  http://plurk.com/p/mzp1e</td>\n",
       "      <td>0</td>\n",
       "    </tr>\n",
       "    <tr>\n",
       "      <th>2</th>\n",
       "      <td>220</td>\n",
       "      <td>@comeagainjen http://twitpic.com/2y2lx - http:...</td>\n",
       "      <td>0</td>\n",
       "    </tr>\n",
       "    <tr>\n",
       "      <th>3</th>\n",
       "      <td>288</td>\n",
       "      <td>@lapcat Need to send 'em to my accountant tomo...</td>\n",
       "      <td>0</td>\n",
       "    </tr>\n",
       "    <tr>\n",
       "      <th>4</th>\n",
       "      <td>540</td>\n",
       "      <td>ADD ME ON MYSPACE!!!  myspace.com/LookThunder</td>\n",
       "      <td>0</td>\n",
       "    </tr>\n",
       "  </tbody>\n",
       "</table>\n",
       "</div>"
      ],
      "text/plain": [
       "   Index                                               Text  Label\n",
       "0    106  just had a real good moment. i missssssssss hi...      0\n",
       "1    217         is reading manga  http://plurk.com/p/mzp1e      0\n",
       "2    220  @comeagainjen http://twitpic.com/2y2lx - http:...      0\n",
       "3    288  @lapcat Need to send 'em to my accountant tomo...      0\n",
       "4    540      ADD ME ON MYSPACE!!!  myspace.com/LookThunder      0"
      ]
     },
     "execution_count": 7,
     "metadata": {},
     "output_type": "execute_result"
    }
   ],
   "source": [
    "#Renaming columns names\n",
    "\n",
    "df.rename(columns={'message to examine': 'Text', 'label (depression result)': 'Label'}, inplace=True)\n",
    "df.head()"
   ]
  },
  {
   "cell_type": "raw",
   "id": "cc8558ea-a0c5-4551-ba98-57dabd8d7600",
   "metadata": {},
   "source": [
    "Convert 'Text' column to lowercase"
   ]
  },
  {
   "cell_type": "code",
   "execution_count": 8,
   "id": "d8c56f90-c41b-4ebe-b6bc-5e8374486a9d",
   "metadata": {},
   "outputs": [],
   "source": [
    "df['Text'] = df['Text'].str.lower()"
   ]
  },
  {
   "cell_type": "code",
   "execution_count": 9,
   "id": "d39a49c7-a65f-4e2f-b948-ec83ae87ec4b",
   "metadata": {},
   "outputs": [
    {
     "data": {
      "text/html": [
       "<div>\n",
       "<style scoped>\n",
       "    .dataframe tbody tr th:only-of-type {\n",
       "        vertical-align: middle;\n",
       "    }\n",
       "\n",
       "    .dataframe tbody tr th {\n",
       "        vertical-align: top;\n",
       "    }\n",
       "\n",
       "    .dataframe thead th {\n",
       "        text-align: right;\n",
       "    }\n",
       "</style>\n",
       "<table border=\"1\" class=\"dataframe\">\n",
       "  <thead>\n",
       "    <tr style=\"text-align: right;\">\n",
       "      <th></th>\n",
       "      <th>Index</th>\n",
       "      <th>Text</th>\n",
       "      <th>Label</th>\n",
       "    </tr>\n",
       "  </thead>\n",
       "  <tbody>\n",
       "    <tr>\n",
       "      <th>0</th>\n",
       "      <td>106</td>\n",
       "      <td>just had a real good moment. i missssssssss hi...</td>\n",
       "      <td>0</td>\n",
       "    </tr>\n",
       "    <tr>\n",
       "      <th>1</th>\n",
       "      <td>217</td>\n",
       "      <td>is reading manga  http://plurk.com/p/mzp1e</td>\n",
       "      <td>0</td>\n",
       "    </tr>\n",
       "    <tr>\n",
       "      <th>2</th>\n",
       "      <td>220</td>\n",
       "      <td>@comeagainjen http://twitpic.com/2y2lx - http:...</td>\n",
       "      <td>0</td>\n",
       "    </tr>\n",
       "    <tr>\n",
       "      <th>3</th>\n",
       "      <td>288</td>\n",
       "      <td>@lapcat need to send 'em to my accountant tomo...</td>\n",
       "      <td>0</td>\n",
       "    </tr>\n",
       "    <tr>\n",
       "      <th>4</th>\n",
       "      <td>540</td>\n",
       "      <td>add me on myspace!!!  myspace.com/lookthunder</td>\n",
       "      <td>0</td>\n",
       "    </tr>\n",
       "  </tbody>\n",
       "</table>\n",
       "</div>"
      ],
      "text/plain": [
       "   Index                                               Text  Label\n",
       "0    106  just had a real good moment. i missssssssss hi...      0\n",
       "1    217         is reading manga  http://plurk.com/p/mzp1e      0\n",
       "2    220  @comeagainjen http://twitpic.com/2y2lx - http:...      0\n",
       "3    288  @lapcat need to send 'em to my accountant tomo...      0\n",
       "4    540      add me on myspace!!!  myspace.com/lookthunder      0"
      ]
     },
     "execution_count": 9,
     "metadata": {},
     "output_type": "execute_result"
    }
   ],
   "source": [
    "df.head()"
   ]
  },
  {
   "cell_type": "raw",
   "id": "a31602ae-5ff1-4e48-89f6-671048d6b1e6",
   "metadata": {},
   "source": [
    "Removing URL's"
   ]
  },
  {
   "cell_type": "raw",
   "id": "54a659f9-7484-4de2-9eee-841088e3d7c2",
   "metadata": {},
   "source": [
    "Function to remove URLs using regular expressions\n",
    "The regular expression r'http\\S+|www\\S+' matches any sequence of characters that starts with http or www followed by any non-whitespace characters"
   ]
  },
  {
   "cell_type": "code",
   "execution_count": 10,
   "id": "e0eca690-e77b-4e09-b42e-afdaac06c483",
   "metadata": {},
   "outputs": [],
   "source": [
    "def remove_urls(text):\n",
    "    return re.sub(r'http\\S+|www\\S+', '', text)"
   ]
  },
  {
   "cell_type": "code",
   "execution_count": 11,
   "id": "9aeb5600-eaf4-45e4-bbb1-bfac96f222f0",
   "metadata": {},
   "outputs": [],
   "source": [
    "# Apply the function to the 'Text' column\n",
    "df['Text'] = df['Text'].apply(remove_urls)"
   ]
  },
  {
   "cell_type": "code",
   "execution_count": 12,
   "id": "34d84d1d-3118-4771-b903-02ced628e9dc",
   "metadata": {},
   "outputs": [
    {
     "data": {
      "text/html": [
       "<div>\n",
       "<style scoped>\n",
       "    .dataframe tbody tr th:only-of-type {\n",
       "        vertical-align: middle;\n",
       "    }\n",
       "\n",
       "    .dataframe tbody tr th {\n",
       "        vertical-align: top;\n",
       "    }\n",
       "\n",
       "    .dataframe thead th {\n",
       "        text-align: right;\n",
       "    }\n",
       "</style>\n",
       "<table border=\"1\" class=\"dataframe\">\n",
       "  <thead>\n",
       "    <tr style=\"text-align: right;\">\n",
       "      <th></th>\n",
       "      <th>Index</th>\n",
       "      <th>Text</th>\n",
       "      <th>Label</th>\n",
       "    </tr>\n",
       "  </thead>\n",
       "  <tbody>\n",
       "    <tr>\n",
       "      <th>2625</th>\n",
       "      <td>269272</td>\n",
       "      <td>well jus got out da shower from a has wastin t...</td>\n",
       "      <td>0</td>\n",
       "    </tr>\n",
       "    <tr>\n",
       "      <th>7134</th>\n",
       "      <td>710902</td>\n",
       "      <td>@adorablekat28 no. i think it'll be too small ...</td>\n",
       "      <td>0</td>\n",
       "    </tr>\n",
       "    <tr>\n",
       "      <th>28</th>\n",
       "      <td>2853</td>\n",
       "      <td>testing to see if twitter works thro facebook</td>\n",
       "      <td>0</td>\n",
       "    </tr>\n",
       "    <tr>\n",
       "      <th>8868</th>\n",
       "      <td>800868</td>\n",
       "      <td>@honoretiy no not really, i mean ya know depre...</td>\n",
       "      <td>1</td>\n",
       "    </tr>\n",
       "    <tr>\n",
       "      <th>9143</th>\n",
       "      <td>801143</td>\n",
       "      <td>daily or regular #physical activity will go a ...</td>\n",
       "      <td>1</td>\n",
       "    </tr>\n",
       "  </tbody>\n",
       "</table>\n",
       "</div>"
      ],
      "text/plain": [
       "       Index                                               Text  Label\n",
       "2625  269272  well jus got out da shower from a has wastin t...      0\n",
       "7134  710902  @adorablekat28 no. i think it'll be too small ...      0\n",
       "28      2853     testing to see if twitter works thro facebook       0\n",
       "8868  800868  @honoretiy no not really, i mean ya know depre...      1\n",
       "9143  801143  daily or regular #physical activity will go a ...      1"
      ]
     },
     "execution_count": 12,
     "metadata": {},
     "output_type": "execute_result"
    }
   ],
   "source": [
    "df.sample(5)"
   ]
  },
  {
   "cell_type": "raw",
   "id": "f593aa44-73aa-4d2c-840c-1ea5eec1da58",
   "metadata": {},
   "source": [
    "Remove punctuation"
   ]
  },
  {
   "cell_type": "raw",
   "id": "e877432d-8334-4199-a9a9-edf3efef5160",
   "metadata": {},
   "source": [
    "string.punctuation is a built-in constant in Python's string module that contains common punctuation characters."
   ]
  },
  {
   "cell_type": "code",
   "execution_count": 13,
   "id": "b652d910-4621-4e3f-b5de-fa2010af5147",
   "metadata": {},
   "outputs": [
    {
     "data": {
      "text/plain": [
       "'!\"#$%&\\'()*+,-./:;<=>?@[\\\\]^_`{|}~'"
      ]
     },
     "execution_count": 13,
     "metadata": {},
     "output_type": "execute_result"
    }
   ],
   "source": [
    "string.punctuation"
   ]
  },
  {
   "cell_type": "code",
   "execution_count": 14,
   "id": "d044209c-0c9f-4cb8-8c08-3496c8eecee7",
   "metadata": {},
   "outputs": [],
   "source": [
    "# Define the punctuation characters to remove\n",
    "punctuation = string.punctuation"
   ]
  },
  {
   "cell_type": "code",
   "execution_count": 15,
   "id": "7f768a84-ce25-45d8-80c3-f0cda001802c",
   "metadata": {},
   "outputs": [],
   "source": [
    "# Function to remove punctuation from text\n",
    "def remove_punctuation(text):\n",
    "    return text.translate(str.maketrans('', '', punctuation))"
   ]
  },
  {
   "cell_type": "code",
   "execution_count": 16,
   "id": "67240fe8-3f69-47f9-bf7c-2c0c7010d7e6",
   "metadata": {},
   "outputs": [],
   "source": [
    "# Apply remove_punctuation function to 'Text' column\n",
    "df['Text'] = df['Text'].apply(remove_punctuation)"
   ]
  },
  {
   "cell_type": "code",
   "execution_count": 17,
   "id": "fde0a2a6-5004-464b-822c-37a690af854f",
   "metadata": {},
   "outputs": [
    {
     "data": {
      "text/html": [
       "<div>\n",
       "<style scoped>\n",
       "    .dataframe tbody tr th:only-of-type {\n",
       "        vertical-align: middle;\n",
       "    }\n",
       "\n",
       "    .dataframe tbody tr th {\n",
       "        vertical-align: top;\n",
       "    }\n",
       "\n",
       "    .dataframe thead th {\n",
       "        text-align: right;\n",
       "    }\n",
       "</style>\n",
       "<table border=\"1\" class=\"dataframe\">\n",
       "  <thead>\n",
       "    <tr style=\"text-align: right;\">\n",
       "      <th></th>\n",
       "      <th>Index</th>\n",
       "      <th>Text</th>\n",
       "      <th>Label</th>\n",
       "    </tr>\n",
       "  </thead>\n",
       "  <tbody>\n",
       "    <tr>\n",
       "      <th>7562</th>\n",
       "      <td>754610</td>\n",
       "      <td>princessalexis9 up hosted wonderful imaginatio...</td>\n",
       "      <td>0</td>\n",
       "    </tr>\n",
       "    <tr>\n",
       "      <th>543</th>\n",
       "      <td>55678</td>\n",
       "      <td>off to the radio station nowanother day</td>\n",
       "      <td>0</td>\n",
       "    </tr>\n",
       "    <tr>\n",
       "      <th>8159</th>\n",
       "      <td>800159</td>\n",
       "      <td>mdmarley fuck netflix and chill depression and...</td>\n",
       "      <td>1</td>\n",
       "    </tr>\n",
       "    <tr>\n",
       "      <th>8453</th>\n",
       "      <td>800453</td>\n",
       "      <td>we need to educate cis people who are going in...</td>\n",
       "      <td>1</td>\n",
       "    </tr>\n",
       "    <tr>\n",
       "      <th>10023</th>\n",
       "      <td>802023</td>\n",
       "      <td>lord please help my friends some of them have ...</td>\n",
       "      <td>1</td>\n",
       "    </tr>\n",
       "  </tbody>\n",
       "</table>\n",
       "</div>"
      ],
      "text/plain": [
       "        Index                                               Text  Label\n",
       "7562   754610  princessalexis9 up hosted wonderful imaginatio...      0\n",
       "543     55678           off to the radio station nowanother day       0\n",
       "8159   800159  mdmarley fuck netflix and chill depression and...      1\n",
       "8453   800453  we need to educate cis people who are going in...      1\n",
       "10023  802023  lord please help my friends some of them have ...      1"
      ]
     },
     "execution_count": 17,
     "metadata": {},
     "output_type": "execute_result"
    }
   ],
   "source": [
    "df.sample(5)"
   ]
  },
  {
   "cell_type": "code",
   "execution_count": 18,
   "id": "2c2e5d42-bb36-4b62-8480-1e6a456e2da4",
   "metadata": {},
   "outputs": [],
   "source": [
    "# Cleaning and removing repeating characters :\n",
    "def cleaning_repeating_char(text):\n",
    "    return re.sub(r'(.)1+', r'1', text)"
   ]
  },
  {
   "cell_type": "code",
   "execution_count": 19,
   "id": "75f53797-666f-41e2-b5e2-1dc61cbfe371",
   "metadata": {},
   "outputs": [
    {
     "data": {
      "text/plain": [
       "783     is at home relaxing cant wait too see my besty...\n",
       "1594    sitting in the sun with a starbucks after a ni...\n",
       "1178    franco made breakfast for mom here hes trying ...\n",
       "4482    victoria secret is the most amaaaziiinngg stor...\n",
       "5555                               loves a follow friday \n",
       "Name: Text, dtype: object"
      ]
     },
     "execution_count": 19,
     "metadata": {},
     "output_type": "execute_result"
    }
   ],
   "source": [
    "df['Text'] = df['Text'].apply(lambda x: cleaning_repeating_char(x))\n",
    "df['Text'].sample(5)"
   ]
  },
  {
   "cell_type": "raw",
   "id": "2ee1741f-a37b-4e1a-a5e6-6937f7fc71ce",
   "metadata": {},
   "source": [
    "Remove numbers from text"
   ]
  },
  {
   "cell_type": "code",
   "execution_count": 20,
   "id": "61ab6ae3-c157-4e09-a3c7-7b3fc2a4afc6",
   "metadata": {},
   "outputs": [],
   "source": [
    "def remove_numbers(text):\n",
    "    return re.sub(r'\\d+', '', text)"
   ]
  },
  {
   "cell_type": "code",
   "execution_count": 21,
   "id": "823019f8-210f-4277-9c3d-460d94bf4de5",
   "metadata": {},
   "outputs": [],
   "source": [
    "df['Text'] = df['Text'].apply(remove_numbers)"
   ]
  },
  {
   "cell_type": "code",
   "execution_count": 22,
   "id": "33ef64b3-ef5d-463f-88a5-7cf31e05e029",
   "metadata": {},
   "outputs": [
    {
     "data": {
      "text/html": [
       "<div>\n",
       "<style scoped>\n",
       "    .dataframe tbody tr th:only-of-type {\n",
       "        vertical-align: middle;\n",
       "    }\n",
       "\n",
       "    .dataframe tbody tr th {\n",
       "        vertical-align: top;\n",
       "    }\n",
       "\n",
       "    .dataframe thead th {\n",
       "        text-align: right;\n",
       "    }\n",
       "</style>\n",
       "<table border=\"1\" class=\"dataframe\">\n",
       "  <thead>\n",
       "    <tr style=\"text-align: right;\">\n",
       "      <th></th>\n",
       "      <th>Index</th>\n",
       "      <th>Text</th>\n",
       "      <th>Label</th>\n",
       "    </tr>\n",
       "  </thead>\n",
       "  <tbody>\n",
       "    <tr>\n",
       "      <th>3942</th>\n",
       "      <td>399414</td>\n",
       "      <td>therealtiffany lol make sure ur drawer spits u...</td>\n",
       "      <td>0</td>\n",
       "    </tr>\n",
       "    <tr>\n",
       "      <th>9690</th>\n",
       "      <td>801690</td>\n",
       "      <td>depression came back</td>\n",
       "      <td>1</td>\n",
       "    </tr>\n",
       "    <tr>\n",
       "      <th>9795</th>\n",
       "      <td>801795</td>\n",
       "      <td>depression recovery is a long process with ups...</td>\n",
       "      <td>1</td>\n",
       "    </tr>\n",
       "    <tr>\n",
       "      <th>9669</th>\n",
       "      <td>801669</td>\n",
       "      <td>exportedsocks idk if ive gone through depressi...</td>\n",
       "      <td>1</td>\n",
       "    </tr>\n",
       "    <tr>\n",
       "      <th>5807</th>\n",
       "      <td>580271</td>\n",
       "      <td>fidanza you can never mention that too much</td>\n",
       "      <td>0</td>\n",
       "    </tr>\n",
       "  </tbody>\n",
       "</table>\n",
       "</div>"
      ],
      "text/plain": [
       "       Index                                               Text  Label\n",
       "3942  399414  therealtiffany lol make sure ur drawer spits u...      0\n",
       "9690  801690                               depression came back      1\n",
       "9795  801795  depression recovery is a long process with ups...      1\n",
       "9669  801669  exportedsocks idk if ive gone through depressi...      1\n",
       "5807  580271       fidanza you can never mention that too much       0"
      ]
     },
     "execution_count": 22,
     "metadata": {},
     "output_type": "execute_result"
    }
   ],
   "source": [
    "df.sample(5)"
   ]
  },
  {
   "cell_type": "raw",
   "id": "4d271ec2-6d04-4aa4-8d50-ef408478af4c",
   "metadata": {},
   "source": [
    "Handling stopwords"
   ]
  },
  {
   "cell_type": "code",
   "execution_count": 23,
   "id": "fb0d9eb4-4895-4672-a2e5-06197739f99e",
   "metadata": {},
   "outputs": [],
   "source": [
    "stop_words = set(stopwords.words('english'))\n"
   ]
  },
  {
   "cell_type": "code",
   "execution_count": 24,
   "id": "96bb3bbd-4a8a-43f9-8c72-8893d0dfa180",
   "metadata": {},
   "outputs": [],
   "source": [
    "# Function to remove stop words from text\n",
    "def remove_stopwords(text):\n",
    "    words = text.split()\n",
    "    filtered_words = [word for word in words if word.lower() not in stop_words]\n",
    "    return ' '.join(filtered_words)"
   ]
  },
  {
   "cell_type": "code",
   "execution_count": 25,
   "id": "b2709c1f-c62e-4e48-b213-5245be256437",
   "metadata": {},
   "outputs": [],
   "source": [
    "# Apply remove_stopwords function to 'Text' column\n",
    "df['Text'] = df['Text'].apply(remove_stopwords)"
   ]
  },
  {
   "cell_type": "code",
   "execution_count": 26,
   "id": "1904f38d-c427-4a13-a3e1-bf370e0dd88d",
   "metadata": {},
   "outputs": [],
   "source": [
    "import emoji"
   ]
  },
  {
   "cell_type": "code",
   "execution_count": 27,
   "id": "6e8947fa-7095-4003-a6c9-abd332186db0",
   "metadata": {},
   "outputs": [],
   "source": [
    "def remove_ej(text):\n",
    "    return emoji.demojize(text)"
   ]
  },
  {
   "cell_type": "code",
   "execution_count": 28,
   "id": "ccaf3d0d-c5ed-4a3a-8537-9334abd7df9f",
   "metadata": {},
   "outputs": [],
   "source": [
    "df['Text'] = df['Text'].apply(remove_ej)"
   ]
  },
  {
   "cell_type": "code",
   "execution_count": 29,
   "id": "acd9ed64-b07f-4681-8d19-3574fca5e91b",
   "metadata": {},
   "outputs": [
    {
     "data": {
      "text/html": [
       "<div>\n",
       "<style scoped>\n",
       "    .dataframe tbody tr th:only-of-type {\n",
       "        vertical-align: middle;\n",
       "    }\n",
       "\n",
       "    .dataframe tbody tr th {\n",
       "        vertical-align: top;\n",
       "    }\n",
       "\n",
       "    .dataframe thead th {\n",
       "        text-align: right;\n",
       "    }\n",
       "</style>\n",
       "<table border=\"1\" class=\"dataframe\">\n",
       "  <thead>\n",
       "    <tr style=\"text-align: right;\">\n",
       "      <th></th>\n",
       "      <th>Index</th>\n",
       "      <th>Text</th>\n",
       "      <th>Label</th>\n",
       "    </tr>\n",
       "  </thead>\n",
       "  <tbody>\n",
       "    <tr>\n",
       "      <th>2498</th>\n",
       "      <td>254598</td>\n",
       "      <td>one perks unemployed enjoying beautiful weathe...</td>\n",
       "      <td>0</td>\n",
       "    </tr>\n",
       "    <tr>\n",
       "      <th>7397</th>\n",
       "      <td>738004</td>\n",
       "      <td>andpark million dollars sure cuz everyone love...</td>\n",
       "      <td>0</td>\n",
       "    </tr>\n",
       "    <tr>\n",
       "      <th>6416</th>\n",
       "      <td>639266</td>\n",
       "      <td>viktorialove nice like girls pretty toes nails</td>\n",
       "      <td>0</td>\n",
       "    </tr>\n",
       "    <tr>\n",
       "      <th>7970</th>\n",
       "      <td>796045</td>\n",
       "      <td>franktrigg heat doesnt get watch crazed disney...</td>\n",
       "      <td>0</td>\n",
       "    </tr>\n",
       "    <tr>\n",
       "      <th>6192</th>\n",
       "      <td>616187</td>\n",
       "      <td>fifilacunt french fry tweet</td>\n",
       "      <td>0</td>\n",
       "    </tr>\n",
       "  </tbody>\n",
       "</table>\n",
       "</div>"
      ],
      "text/plain": [
       "       Index                                               Text  Label\n",
       "2498  254598  one perks unemployed enjoying beautiful weathe...      0\n",
       "7397  738004  andpark million dollars sure cuz everyone love...      0\n",
       "6416  639266     viktorialove nice like girls pretty toes nails      0\n",
       "7970  796045  franktrigg heat doesnt get watch crazed disney...      0\n",
       "6192  616187                        fifilacunt french fry tweet      0"
      ]
     },
     "execution_count": 29,
     "metadata": {},
     "output_type": "execute_result"
    }
   ],
   "source": [
    "df.sample(5)"
   ]
  },
  {
   "cell_type": "code",
   "execution_count": 30,
   "id": "746dfce1-50b6-435f-bcb7-90fb5003ff12",
   "metadata": {},
   "outputs": [],
   "source": [
    "# Intilize Lemmatizer\n",
    "wordnet_lemmatizer = WordNetLemmatizer()"
   ]
  },
  {
   "cell_type": "code",
   "execution_count": 31,
   "id": "4d9601f8-ba9e-4544-b6ab-6d05fa7ed588",
   "metadata": {},
   "outputs": [],
   "source": [
    "df['Text_lemmatized'] = df['Text'].apply(lambda x: ' '.join([wordnet_lemmatizer.lemmatize(word , pos='v') for word in x.split()]))"
   ]
  },
  {
   "cell_type": "code",
   "execution_count": 32,
   "id": "2036c358-000c-4e32-8a30-ed7fac316350",
   "metadata": {
    "scrolled": true
   },
   "outputs": [],
   "source": [
    "df.drop([\"Index\"], axis=1, inplace = True)"
   ]
  },
  {
   "cell_type": "code",
   "execution_count": 33,
   "id": "874296a4-bc06-4901-9da0-6d8c8d1ecd3f",
   "metadata": {},
   "outputs": [],
   "source": [
    "X = df['Text']\n",
    "y = df['Label']"
   ]
  },
  {
   "cell_type": "code",
   "execution_count": 34,
   "id": "8faf4b81-201e-4a2e-b967-3c129d401a7a",
   "metadata": {},
   "outputs": [],
   "source": [
    "X_train,X_test,y_train,y_test=train_test_split(df['Text_lemmatized'],df['Label'],test_size=0.20,random_state=42)"
   ]
  },
  {
   "cell_type": "code",
   "execution_count": 35,
   "id": "653aca49-cc06-4f68-aa72-a3fe0bcbb5be",
   "metadata": {},
   "outputs": [
    {
     "data": {
      "text/plain": [
       "((8251,), (2063,), (8251,), (2063,))"
      ]
     },
     "execution_count": 35,
     "metadata": {},
     "output_type": "execute_result"
    }
   ],
   "source": [
    "X_train.shape,X_test.shape,y_train.shape,y_test.shape"
   ]
  },
  {
   "cell_type": "code",
   "execution_count": 36,
   "id": "1d3868ba-dea1-4aee-b23a-7bcde699bf50",
   "metadata": {},
   "outputs": [],
   "source": [
    "tokenizer = Tokenizer(oov_token = 'nothing')\n",
    "tokenizer.fit_on_texts(X_train)\n",
    "tokenizer.fit_on_texts(X_test)"
   ]
  },
  {
   "cell_type": "code",
   "execution_count": 37,
   "id": "628f3ff5-8cf8-45f8-9081-7aa0e11957b6",
   "metadata": {},
   "outputs": [
    {
     "data": {
      "text/plain": [
       "10314"
      ]
     },
     "execution_count": 37,
     "metadata": {},
     "output_type": "execute_result"
    }
   ],
   "source": [
    "tokenizer.document_count"
   ]
  },
  {
   "cell_type": "code",
   "execution_count": 38,
   "id": "3522ae8a-3254-4d0c-abef-f0ec3b14627f",
   "metadata": {},
   "outputs": [],
   "source": [
    "X_train_sequences = tokenizer.texts_to_sequences(X_train)\n",
    "X_test_sequences = tokenizer.texts_to_sequences(X_test)"
   ]
  },
  {
   "cell_type": "code",
   "execution_count": 39,
   "id": "00575c5f-0850-485c-93e4-5ec97864c233",
   "metadata": {},
   "outputs": [
    {
     "name": "stdout",
     "output_type": "stream",
     "text": [
      "Maximum sequence length (maxlen): 72\n"
     ]
    }
   ],
   "source": [
    "maxlen = max(len(tokens) for tokens in X_train_sequences)\n",
    "print(\"Maximum sequence length (maxlen):\", maxlen)"
   ]
  },
  {
   "cell_type": "code",
   "execution_count": 40,
   "id": "ccb3010c-e7df-4a93-a186-554c50c1e29a",
   "metadata": {},
   "outputs": [],
   "source": [
    "# Perform padding on X_train and X_test sequences\n",
    "X_train_padded = pad_sequences(X_train_sequences, maxlen=maxlen, padding='post')\n",
    "X_test_padded = pad_sequences(X_test_sequences, maxlen=maxlen, padding='post')"
   ]
  },
  {
   "cell_type": "code",
   "execution_count": 41,
   "id": "0543e765-62b9-4849-b1b4-5a9c6e8624be",
   "metadata": {},
   "outputs": [
    {
     "name": "stdout",
     "output_type": "stream",
     "text": [
      "X_train_padded:\n",
      "[[   17   375   900 ...     0     0     0]\n",
      " [    5  3524   501 ...     0     0     0]\n",
      " [ 5409  5410     3 ...     0     0     0]\n",
      " ...\n",
      " [17129   923     0 ...     0     0     0]\n",
      " [  279  1684  3150 ...     0     0     0]\n",
      " [  433     5  1050 ...     0     0     0]]\n",
      "\n",
      "X_test_padded:\n",
      "[[17130   378   143 ...     0     0     0]\n",
      " [17131   704   205 ...     0     0     0]\n",
      " [17132    94   116 ...     0     0     0]\n",
      " ...\n",
      " [20072 20073 20074 ...     0     0     0]\n",
      " [20075   213    73 ...     0     0     0]\n",
      " [20076   628   801 ...     0     0     0]]\n"
     ]
    }
   ],
   "source": [
    "# Print the padded sequences for X_train and X_test\n",
    "print(\"X_train_padded:\")\n",
    "print(X_train_padded)\n",
    "print(\"\\nX_test_padded:\")\n",
    "print(X_test_padded)"
   ]
  },
  {
   "cell_type": "code",
   "execution_count": 42,
   "id": "579cd9e5-4a4f-4b89-b517-3ade9209167b",
   "metadata": {},
   "outputs": [
    {
     "data": {
      "text/plain": [
       "Label\n",
       "0    1614\n",
       "1     449\n",
       "Name: count, dtype: int64"
      ]
     },
     "execution_count": 42,
     "metadata": {},
     "output_type": "execute_result"
    }
   ],
   "source": [
    "y_test.value_counts()"
   ]
  },
  {
   "cell_type": "code",
   "execution_count": 43,
   "id": "a8d81076-0f2c-489a-966b-7910b2fb12c3",
   "metadata": {},
   "outputs": [
    {
     "data": {
      "text/plain": [
       "Label\n",
       "0    6386\n",
       "1    1865\n",
       "Name: count, dtype: int64"
      ]
     },
     "execution_count": 43,
     "metadata": {},
     "output_type": "execute_result"
    }
   ],
   "source": [
    "y_train.value_counts()"
   ]
  },
  {
   "cell_type": "code",
   "execution_count": 44,
   "id": "eca3cf76-dfe4-4c5a-891f-6e69dbd8dacf",
   "metadata": {},
   "outputs": [
    {
     "data": {
      "text/plain": [
       "np.int32(17130)"
      ]
     },
     "execution_count": 44,
     "metadata": {},
     "output_type": "execute_result"
    }
   ],
   "source": [
    "# Embedding Input Size / Vocabulary Size \n",
    "input_Size = np.max(X_train_padded) + 1\n",
    "input_Size"
   ]
  },
  {
   "cell_type": "code",
   "execution_count": 45,
   "id": "77ee1cd8-9254-4465-81b4-dadb347ef399",
   "metadata": {},
   "outputs": [],
   "source": [
    "# Define the model\n",
    "model = Sequential()\n",
    "\n",
    "model.add(LSTM(128, input_shape=(75,1), return_sequences=True))  \n",
    "\n",
    "model.add(Dropout(0.5))\n",
    "\n",
    "model.add(LSTM(128)) \n",
    "\n",
    "model.add(Dropout(0.5))  \n",
    "\n",
    "model.add(Dense(64, activation='relu'))  \n",
    "\n",
    "model.add(Dense(1, activation='sigmoid')) "
   ]
  },
  {
   "cell_type": "code",
   "execution_count": 46,
   "id": "ba8584fb-fbb1-4036-97de-368092663842",
   "metadata": {},
   "outputs": [],
   "source": [
    "# Compile the model\n",
    "model.compile(optimizer='adam', loss='binary_crossentropy', metrics=['accuracy'])"
   ]
  },
  {
   "cell_type": "code",
   "execution_count": 47,
   "id": "897c4ad6-316d-4a37-8d44-5a7c42e3e94f",
   "metadata": {},
   "outputs": [
    {
     "name": "stdout",
     "output_type": "stream",
     "text": [
      "Epoch 1/15\n",
      "\u001b[1m258/258\u001b[0m \u001b[32m━━━━━━━━━━━━━━━━━━━━\u001b[0m\u001b[37m\u001b[0m \u001b[1m38s\u001b[0m 130ms/step - accuracy: 0.8081 - loss: 0.5024 - val_accuracy: 0.8328 - val_loss: 0.4417\n",
      "Epoch 2/15\n",
      "\u001b[1m258/258\u001b[0m \u001b[32m━━━━━━━━━━━━━━━━━━━━\u001b[0m\u001b[37m\u001b[0m \u001b[1m34s\u001b[0m 131ms/step - accuracy: 0.8199 - loss: 0.4623 - val_accuracy: 0.8352 - val_loss: 0.4289\n",
      "Epoch 3/15\n",
      "\u001b[1m258/258\u001b[0m \u001b[32m━━━━━━━━━━━━━━━━━━━━\u001b[0m\u001b[37m\u001b[0m \u001b[1m34s\u001b[0m 130ms/step - accuracy: 0.8371 - loss: 0.4312 - val_accuracy: 0.8987 - val_loss: 0.2919\n",
      "Epoch 4/15\n",
      "\u001b[1m258/258\u001b[0m \u001b[32m━━━━━━━━━━━━━━━━━━━━\u001b[0m\u001b[37m\u001b[0m \u001b[1m33s\u001b[0m 129ms/step - accuracy: 0.8991 - loss: 0.2907 - val_accuracy: 0.9355 - val_loss: 0.2163\n",
      "Epoch 5/15\n",
      "\u001b[1m258/258\u001b[0m \u001b[32m━━━━━━━━━━━━━━━━━━━━\u001b[0m\u001b[37m\u001b[0m \u001b[1m34s\u001b[0m 132ms/step - accuracy: 0.9408 - loss: 0.1982 - val_accuracy: 0.9583 - val_loss: 0.1557\n",
      "Epoch 6/15\n",
      "\u001b[1m258/258\u001b[0m \u001b[32m━━━━━━━━━━━━━━━━━━━━\u001b[0m\u001b[37m\u001b[0m \u001b[1m34s\u001b[0m 133ms/step - accuracy: 0.9621 - loss: 0.1499 - val_accuracy: 0.9578 - val_loss: 0.1555\n",
      "Epoch 7/15\n",
      "\u001b[1m258/258\u001b[0m \u001b[32m━━━━━━━━━━━━━━━━━━━━\u001b[0m\u001b[37m\u001b[0m \u001b[1m35s\u001b[0m 135ms/step - accuracy: 0.9609 - loss: 0.1490 - val_accuracy: 0.9690 - val_loss: 0.1239\n",
      "Epoch 8/15\n",
      "\u001b[1m258/258\u001b[0m \u001b[32m━━━━━━━━━━━━━━━━━━━━\u001b[0m\u001b[37m\u001b[0m \u001b[1m34s\u001b[0m 133ms/step - accuracy: 0.9616 - loss: 0.1466 - val_accuracy: 0.9695 - val_loss: 0.1240\n",
      "Epoch 9/15\n",
      "\u001b[1m258/258\u001b[0m \u001b[32m━━━━━━━━━━━━━━━━━━━━\u001b[0m\u001b[37m\u001b[0m \u001b[1m35s\u001b[0m 137ms/step - accuracy: 0.9646 - loss: 0.1427 - val_accuracy: 0.9704 - val_loss: 0.1225\n",
      "Epoch 10/15\n",
      "\u001b[1m258/258\u001b[0m \u001b[32m━━━━━━━━━━━━━━━━━━━━\u001b[0m\u001b[37m\u001b[0m \u001b[1m35s\u001b[0m 134ms/step - accuracy: 0.9690 - loss: 0.1240 - val_accuracy: 0.9704 - val_loss: 0.1229\n",
      "Epoch 11/15\n",
      "\u001b[1m258/258\u001b[0m \u001b[32m━━━━━━━━━━━━━━━━━━━━\u001b[0m\u001b[37m\u001b[0m \u001b[1m34s\u001b[0m 134ms/step - accuracy: 0.9694 - loss: 0.1306 - val_accuracy: 0.9709 - val_loss: 0.1252\n",
      "Epoch 12/15\n",
      "\u001b[1m258/258\u001b[0m \u001b[32m━━━━━━━━━━━━━━━━━━━━\u001b[0m\u001b[37m\u001b[0m \u001b[1m41s\u001b[0m 132ms/step - accuracy: 0.9703 - loss: 0.1255 - val_accuracy: 0.9651 - val_loss: 0.1382\n",
      "Epoch 13/15\n",
      "\u001b[1m258/258\u001b[0m \u001b[32m━━━━━━━━━━━━━━━━━━━━\u001b[0m\u001b[37m\u001b[0m \u001b[1m33s\u001b[0m 130ms/step - accuracy: 0.9645 - loss: 0.1447 - val_accuracy: 0.9729 - val_loss: 0.1186\n",
      "Epoch 14/15\n",
      "\u001b[1m258/258\u001b[0m \u001b[32m━━━━━━━━━━━━━━━━━━━━\u001b[0m\u001b[37m\u001b[0m \u001b[1m34s\u001b[0m 133ms/step - accuracy: 0.9720 - loss: 0.1195 - val_accuracy: 0.9709 - val_loss: 0.1184\n",
      "Epoch 15/15\n",
      "\u001b[1m258/258\u001b[0m \u001b[32m━━━━━━━━━━━━━━━━━━━━\u001b[0m\u001b[37m\u001b[0m \u001b[1m41s\u001b[0m 131ms/step - accuracy: 0.9731 - loss: 0.1136 - val_accuracy: 0.9632 - val_loss: 0.1361\n"
     ]
    }
   ],
   "source": [
    "# Model Train \n",
    "history = model.fit(X_train_padded, y_train, epochs=15, batch_size=32, validation_data=(X_test_padded, y_test))"
   ]
  },
  {
   "cell_type": "code",
   "execution_count": 48,
   "id": "58248a59-0f4e-4627-ae65-2d3ea57380d3",
   "metadata": {},
   "outputs": [
    {
     "data": {
      "image/png": "[encoded data removed]",
      "text/plain": [
       "<Figure size 640x480 with 1 Axes>"
      ]
     },
     "metadata": {},
     "output_type": "display_data"
    }
   ],
   "source": [
    "# Plotting the training and testing accuracy\n",
    "plt.plot(history.history['accuracy'])\n",
    "plt.plot(history.history['val_accuracy'])\n",
    "plt.title('Model accuracy')\n",
    "plt.ylabel('accuracy')\n",
    "plt.xlabel('Epoch')\n",
    "plt.legend(['Train', 'Validation'], loc='upper right')\n",
    "plt.show()"
   ]
  },
  {
   "cell_type": "code",
   "execution_count": 49,
   "id": "1d6ad9db-380d-466c-b908-acd3530bf72e",
   "metadata": {},
   "outputs": [
    {
     "data": {
      "image/png": "[encoded data removed]",
      "text/plain": [
       "<Figure size 640x480 with 1 Axes>"
      ]
     },
     "metadata": {},
     "output_type": "display_data"
    }
   ],
   "source": [
    "# Plotting the training and testing loss\n",
    "plt.plot(history.history['loss'])\n",
    "plt.plot(history.history['val_loss'])\n",
    "plt.title('Model loss')\n",
    "plt.ylabel('Loss')\n",
    "plt.xlabel('Epoch')\n",
    "plt.legend(['Train', 'Validation'], loc='upper right')\n",
    "plt.show()"
   ]
  },
  {
   "cell_type": "code",
   "execution_count": 81,
   "id": "ad7e02e2-d8ed-456a-a943-7239b63ebd7f",
   "metadata": {},
   "outputs": [
    {
     "name": "stdout",
     "output_type": "stream",
     "text": [
      "\u001b[1m65/65\u001b[0m \u001b[32m━━━━━━━━━━━━━━━━━━━━\u001b[0m\u001b[37m\u001b[0m \u001b[1m3s\u001b[0m 44ms/step\n",
      "              precision    recall  f1-score   support\n",
      "\n",
      "           0       0.97      0.98      0.98      1614\n",
      "           1       0.94      0.89      0.91       449\n",
      "\n",
      "    accuracy                           0.96      2063\n",
      "   macro avg       0.95      0.94      0.94      2063\n",
      "weighted avg       0.96      0.96      0.96      2063\n",
      "\n"
     ]
    }
   ],
   "source": [
    "predicted_labels = model.predict(X_test_padded)\n",
    "predicted_labels = (predicted_labels > 0.5).astype(int) \n",
    "report = classification_report(y_test, predicted_labels, target_names=['0', '1'])\n",
    "print(report)"
   ]
  },
  {
   "cell_type": "code",
   "execution_count": 61,
   "id": "eef7a296-66fb-4882-a4dd-fbc83d07349e",
   "metadata": {},
   "outputs": [],
   "source": [
    "def predict_sentiment(text):\n",
    "    seq = tokenizer.texts_to_sequences([text])\n",
    "    padded = pad_sequences(seq, maxlen=maxlen, padding='post')\n",
    "    prediction = model.predict(padded)[0]\n",
    "    #sentiment = np.where(prediction >= 0.5, \"Positive\", \"Negative\")\n",
    "    sentiment = \"Positive\" if prediction >= 0.5 else \"Negative\"\n",
    "    return sentiment"
   ]
  },
  {
   "cell_type": "raw",
   "id": "e4a50e97-0865-4f1f-96cc-28134d528a7d",
   "metadata": {},
   "source": [
    "Below results shows tweets are positive means person is in depression."
   ]
  },
  {
   "cell_type": "code",
   "execution_count": 62,
   "id": "8f836bd7-d5ef-45ba-9861-f09df0cad840",
   "metadata": {},
   "outputs": [],
   "source": [
    "text1 = \"The lack of this understanding is a small but significant part of what causes anxiety & depression to both feel so incredibly lonely.\""
   ]
  },
  {
   "cell_type": "code",
   "execution_count": 63,
   "id": "fc855e8d-6c90-4b53-91e5-ac408348e71f",
   "metadata": {},
   "outputs": [
    {
     "name": "stdout",
     "output_type": "stream",
     "text": [
      "\u001b[1m1/1\u001b[0m \u001b[32m━━━━━━━━━━━━━━━━━━━━\u001b[0m\u001b[37m\u001b[0m \u001b[1m0s\u001b[0m 82ms/step\n"
     ]
    },
    {
     "data": {
      "text/plain": [
       "'Positive'"
      ]
     },
     "execution_count": 63,
     "metadata": {},
     "output_type": "execute_result"
    }
   ],
   "source": [
    "predict_sentiment(text1)"
   ]
  },
  {
   "cell_type": "code",
   "execution_count": 69,
   "id": "5889f81d-f7ee-4e9e-bda4-63a56dd14499",
   "metadata": {},
   "outputs": [],
   "source": [
    "text2 = \"Im miserable but not the type that wants company Im the type that whats to be left alone Maybe thats depression\""
   ]
  },
  {
   "cell_type": "code",
   "execution_count": 70,
   "id": "12429384-ca2c-4055-a013-72df9655d3c2",
   "metadata": {},
   "outputs": [
    {
     "name": "stdout",
     "output_type": "stream",
     "text": [
      "\u001b[1m1/1\u001b[0m \u001b[32m━━━━━━━━━━━━━━━━━━━━\u001b[0m\u001b[37m\u001b[0m \u001b[1m0s\u001b[0m 69ms/step\n"
     ]
    },
    {
     "data": {
      "text/plain": [
       "'Positive'"
      ]
     },
     "execution_count": 70,
     "metadata": {},
     "output_type": "execute_result"
    }
   ],
   "source": [
    "predict_sentiment(text2)"
   ]
  },
  {
   "cell_type": "raw",
   "id": "5814c21e-3378-433a-9728-2ccae032f24a",
   "metadata": {},
   "source": [
    "Below results shows tweets are negative means person is not in depression."
   ]
  },
  {
   "cell_type": "code",
   "execution_count": 74,
   "id": "d85fb3c0-ba01-49d5-a5fe-757f0370ea87",
   "metadata": {},
   "outputs": [
    {
     "name": "stdout",
     "output_type": "stream",
     "text": [
      "\u001b[1m1/1\u001b[0m \u001b[32m━━━━━━━━━━━━━━━━━━━━\u001b[0m\u001b[37m\u001b[0m \u001b[1m0s\u001b[0m 96ms/step\n"
     ]
    },
    {
     "data": {
      "text/plain": [
       "'Negative'"
      ]
     },
     "execution_count": 74,
     "metadata": {},
     "output_type": "execute_result"
    }
   ],
   "source": [
    "text3 = \"absolutely loved this movie the story was gripping and the performances were top-notch\"\n",
    "predict_sentiment(text3)"
   ]
  },
  {
   "cell_type": "code",
   "execution_count": 76,
   "id": "09c997e7-3b6d-40b4-a433-603d36223ef1",
   "metadata": {},
   "outputs": [
    {
     "name": "stdout",
     "output_type": "stream",
     "text": [
      "\u001b[1m1/1\u001b[0m \u001b[32m━━━━━━━━━━━━━━━━━━━━\u001b[0m\u001b[37m\u001b[0m \u001b[1m0s\u001b[0m 104ms/step\n"
     ]
    },
    {
     "data": {
      "text/plain": [
       "'Negative'"
      ]
     },
     "execution_count": 76,
     "metadata": {},
     "output_type": "execute_result"
    }
   ],
   "source": [
    "text4 = \"i am very happy today lets go on a road trip\"\n",
    "predict_sentiment(text4)"
   ]
  },
  {
   "cell_type": "code",
   "execution_count": 78,
   "id": "6c607382-7642-4640-9294-6be8d8bc170a",
   "metadata": {},
   "outputs": [
    {
     "name": "stdout",
     "output_type": "stream",
     "text": [
      "\u001b[1m1/1\u001b[0m \u001b[32m━━━━━━━━━━━━━━━━━━━━\u001b[0m\u001b[37m\u001b[0m \u001b[1m0s\u001b[0m 81ms/step\n"
     ]
    },
    {
     "data": {
      "text/plain": [
       "'Positive'"
      ]
     },
     "execution_count": 78,
     "metadata": {},
     "output_type": "execute_result"
    }
   ],
   "source": [
    "text5 = \"Depression. Everybody I know is suffering from the depression. What a great life!\"\n",
    "predict_sentiment(text5)"
   ]
  },
  {
   "cell_type": "code",
   "execution_count": null,
   "id": "a28360af-d195-4d54-8a21-385221bf6381",
   "metadata": {},
   "outputs": [],
   "source": []
  }
 ],
 "metadata": {
  "kernelspec": {
   "display_name": "Python 3 (ipykernel)",
   "language": "python",
   "name": "python3"
  },
  "language_info": {
   "codemirror_mode": {
    "name": "ipython",
    "version": 3
   },
   "file_extension": ".py",
   "mimetype": "text/x-python",
   "name": "python",
   "nbconvert_exporter": "python",
   "pygments_lexer": "ipython3",
   "version": "3.11.9"
  }
 },
 "nbformat": 4,
 "nbformat_minor": 5
}
